{
 "cells": [
  {
   "cell_type": "markdown",
   "metadata": {},
   "source": []
  },
  {
   "cell_type": "code",
   "execution_count": 1,
   "metadata": {},
   "outputs": [
    {
     "name": "stdout",
     "output_type": "stream",
     "text": [
      "Column Names:\n",
      "['3364', 'Facebook', 'Irrelevant', 'I mentioned on Facebook that I was struggling for motivation to go for a run the other day, which has been translated by Tom’s great auntie as ‘Hayley can’t get out of bed’ and told to his grandma, who now thinks I’m a lazy, terrible person 🤣']\n"
     ]
    }
   ],
   "source": [
    "import pandas as pd\n",
    "\n",
    "def load_csv_and_print_columns(file_path):\n",
    "    try:\n",
    "        # Load the CSV file into a pandas DataFrame\n",
    "        df = pd.read_csv(file_path)\n",
    "\n",
    "        # Print the column names\n",
    "        print(\"Column Names:\")\n",
    "        print(df.columns.tolist())\n",
    "        df = pd.read_csv(file_path)\n",
    "        print(\"shape of dataset \", df.shape)\n",
    "        df.columns = [\"id\", \"game\", \"sentiment label\", \"tweet\"]\n",
    "        df = df.head(5)  # k is an integer\n",
    "    except Exception as e:\n",
    "        print(f\"An error occurred: {e}\")\n",
    "# Replace 'your_file_path.csv' with the path to your CSV file\n",
    "file_path = '../data/raw/twitter_validation.csv'\n",
    "load_csv_and_print_columns(file_path)\n"
   ]
  }
 ],
 "metadata": {
  "kernelspec": {
   "display_name": "MLOpsTSA",
   "language": "python",
   "name": "python3"
  },
  "language_info": {
   "codemirror_mode": {
    "name": "ipython",
    "version": 3
   },
   "file_extension": ".py",
   "mimetype": "text/x-python",
   "name": "python",
   "nbconvert_exporter": "python",
   "pygments_lexer": "ipython3",
   "version": "3.10.13"
  }
 },
 "nbformat": 4,
 "nbformat_minor": 2
}
